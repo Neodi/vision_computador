{
 "cells": [
  {
   "cell_type": "markdown",
   "metadata": {},
   "source": [
    "# - Preprocesado"
   ]
  },
  {
   "cell_type": "code",
   "execution_count": null,
   "metadata": {},
   "outputs": [],
   "source": [
    "# preprocesado/preprocesado.ipynb"
   ]
  },
  {
   "cell_type": "markdown",
   "metadata": {},
   "source": [
    "Propósito de lo que se ha Hecho\n",
    "El propósito de este notebook es preparar el dataset ExDark para que pueda ser utilizado por YOLO. Esto incluye:\n",
    "\n",
    "1. Conversión de Anotaciones:\n",
    "Convertir las anotaciones de ExDark al formato requerido por YOLO.\n",
    "Organización del Dataset:\n",
    "\n",
    "2. Organizar las imágenes y anotaciones en carpetas separadas para entrenamiento, validación y prueba.\n",
    "Verificación de Datos:\n",
    "\n",
    "3. Verificar que todas las imágenes tengan sus anotaciones correspondientes y que la estructura del dataset sea correcta.\n",
    "\n",
    "Resumen\n",
    "Este notebook realiza las siguientes tareas:\n",
    "\n",
    "- Carga y Visualización de Anotaciones: Carga y muestra las anotaciones de ExDark.\n",
    "- Conversión de Anotaciones: Convierte las anotaciones de ExDark al formato YOLO.\n",
    "- Organización del Dataset: Organiza las imágenes y anotaciones en carpetas separadas para entrenamiento, validación y prueba.\n",
    "- Verificación de Datos: Verifica que todas las imágenes tengan sus anotaciones correspondientes."
   ]
  },
  {
   "cell_type": "markdown",
   "metadata": {},
   "source": [
    "# - Entrenamientos"
   ]
  },
  {
   "cell_type": "markdown",
   "metadata": {},
   "source": [
    "# Pruebas base"
   ]
  },
  {
   "cell_type": "code",
   "execution_count": 2,
   "metadata": {},
   "outputs": [],
   "source": [
    "# benchMarkModelos/base/modelos_1epoc.ipynb"
   ]
  },
  {
   "cell_type": "markdown",
   "metadata": {},
   "source": [
    "### Propósito de lo que se ha Hecho\n",
    "\n",
    "El propósito de este notebook es comparar el rendimiento de diferentes modelos YOLO entrenándolos durante una sola época y evaluando sus métricas de rendimiento en un dataset específico. Esto permite identificar qué modelo tiene el mejor rendimiento inicial y puede ser una base para entrenamientos más largos y detallados.\n",
    "\n",
    "### Resumen\n",
    "\n",
    "Este notebook realiza las siguientes tareas:\n",
    "\n",
    "1. **Importación de Bibliotecas**: Importa la biblioteca `ultralytics` para trabajar con los modelos YOLO.\n",
    "2. **Definición de Modelos**: Define una lista de modelos YOLO que se van a evaluar.\n",
    "3. **Ruta al Archivo de Configuración del Dataset**: Especifica la ruta al archivo `data.yaml` que contiene la configuración del dataset.\n",
    "4. **Función para Evaluar un Modelo**: Define una función `evaluar_modelo` que carga un modelo YOLO, lo entrena durante una época y devuelve los resultados de la evaluación.\n",
    "5. **Evaluación de los Modelos**: Evalúa todos los modelos definidos en la lista `modelos` utilizando la función `evaluar_modelo`.\n",
    "\n",
    "Al final del proceso, tendrás una comparación del rendimiento inicial de varios modelos YOLO en tu dataset específico, lo que te permitirá tomar decisiones informadas sobre qué modelo utilizar para entrenamientos más largos y detallados."
   ]
  },
  {
   "cell_type": "markdown",
   "metadata": {},
   "source": [
    "# Resultados 20 épocas"
   ]
  },
  {
   "cell_type": "code",
   "execution_count": 3,
   "metadata": {},
   "outputs": [],
   "source": [
    "# benchMarkModelos/entrenados/entrenamiento20_epocas-comparativa.ipynb"
   ]
  },
  {
   "cell_type": "markdown",
   "metadata": {},
   "source": [
    "### Propósito de lo que se ha Hecho\n",
    "\n",
    "El propósito de este notebook es comparar el rendimiento de diferentes modelos YOLO entrenándolos durante 20 épocas y evaluando sus métricas de rendimiento en un dataset específico. Esto incluye:\n",
    "\n",
    "1. **Entrenamiento de Modelos**:\n",
    "   - Entrenar cada modelo YOLO durante 20 épocas y guardar los resultados.\n",
    "\n",
    "2. **Evaluación de Métricas**:\n",
    "   - Evaluar las métricas de rendimiento de cada modelo, como precisión, recall, mAP50, mAP50-95.\n",
    "\n",
    "3. **Comparación de Tiempos de Entrenamiento**:\n",
    "   - Comparar los tiempos de entrenamiento de cada modelo para determinar cuál ofrece el mejor rendimiento en relación al tiempo de entrenamiento.\n",
    "\n",
    "4. **Visualización de Resultados**:\n",
    "   - Graficar las métricas de rendimiento y los tiempos de entrenamiento para facilitar la comparación visual.\n",
    "\n",
    "### Resumen\n",
    "\n",
    "Este notebook realiza las siguientes tareas:\n",
    "\n",
    "1. **Importación de Bibliotecas**: Importa las bibliotecas necesarias para trabajar con los modelos YOLO y procesar los resultados.\n",
    "2. **Definición de Modelos**: Define una lista de modelos YOLO que se van a evaluar.\n",
    "3. **Ruta al Archivo de Configuración del Dataset**: Especifica la ruta al archivo `data.yaml` que contiene la configuración del dataset.\n",
    "4. **Función para Evaluar un Modelo**: Define una función `evaluar_modelo` que carga un modelo YOLO, lo entrena durante un número específico de épocas y devuelve los resultados de la evaluación.\n",
    "5. **Evaluación de los Modelos**: Evalúa todos los modelos definidos en la lista `modelos` utilizando la función `evaluar_modelo`.\n",
    "6. **Procesamiento de Resultados**: Procesa los resultados de las evaluaciones, extrayendo las métricas de rendimiento y los tiempos de entrenamiento.\n",
    "7. **Análisis de Métricas**: Analiza las métricas de rendimiento y grafica los resultados.\n",
    "8. **Comparación de Tiempos de Entrenamiento**: Extrae y grafica los tiempos de entrenamiento de cada modelo.\n",
    "\n",
    "Al final del proceso, tendrás una comparación detallada del rendimiento de varios modelos YOLO en tu dataset específico, lo que te permitirá tomar decisiones informadas sobre qué modelo utilizar para futuras tareas de detección de objetos."
   ]
  },
  {
   "cell_type": "markdown",
   "metadata": {},
   "source": [
    "# Resultados 200 épocas"
   ]
  },
  {
   "cell_type": "code",
   "execution_count": 4,
   "metadata": {},
   "outputs": [],
   "source": [
    "# benchMarkModelos/entrenados/comparatativa200_epoc_y9-y10-y11.ipynb"
   ]
  },
  {
   "cell_type": "markdown",
   "metadata": {},
   "source": [
    "### Propósito de lo que se ha Hecho\n",
    "\n",
    "El propósito de este notebook es comparar el rendimiento de varios modelos YOLO (YOLOv8, YOLOv9, YOLOv11) entrenados durante 200 épocas en un dataset específico. Se analizan y visualizan las métricas de rendimiento, como el mAP, precisión, recall, y las pérdidas de entrenamiento y validación. Además, se evalúan los mejores modelos en un conjunto de datos de prueba para verificar su rendimiento.\n",
    "\n",
    "### Resumen\n",
    "\n",
    "Este notebook realiza las siguientes tareas:\n",
    "\n",
    "1. **Carga de Resultados**: Carga los resultados de entrenamiento de 200 épocas para los modelos YOLOv8, YOLOv9 y YOLOv11 desde archivos CSV.\n",
    "2. **Análisis de Duración del Entrenamiento**: Compara la duración del entrenamiento en términos de tiempo y número de épocas.\n",
    "3. **Evaluación de Métricas de Rendimiento**: Extrae y visualiza las mejores métricas de mAP, precisión y recall para cada modelo.\n",
    "4. **Análisis de Pérdidas**: Compara las pérdidas de entrenamiento y validación (box_loss, cls_loss, dfl_loss) para cada modelo.\n",
    "5. **Evaluación en Conjunto de Prueba**: Evalúa los mejores modelos en un conjunto de datos de prueba y visualiza las métricas de rendimiento.\n",
    "6. **Visualización de Resultados**: Genera gráficos comparativos de las métricas de rendimiento y las matrices de confusión para los modelos evaluados.\n",
    "\n",
    "Al final del proceso, tendrás una comparación detallada del rendimiento de varios modelos YOLO en tu dataset específico, lo que te permitirá tomar decisiones informadas sobre qué modelo utilizar para futuras tareas de detección de objetos."
   ]
  },
  {
   "cell_type": "markdown",
   "metadata": {},
   "source": [
    "# FineTunnig"
   ]
  },
  {
   "cell_type": "code",
   "execution_count": null,
   "metadata": {},
   "outputs": [],
   "source": [
    "# benchMarkModelos/entrenados/fine_tunning.ipynb"
   ]
  },
  {
   "cell_type": "markdown",
   "metadata": {},
   "source": [
    "### Resumen\n",
    "\n",
    "Este notebook realiza las siguientes tareas:\n",
    "\n",
    "1. **Descongelar Partes del Modelo**: Descongela partes específicas del modelo YOLOv9 para permitir su reentrenamiento.\n",
    "2. **Ajuste de Parámetros**: Ajusta parámetros como la tasa de aprendizaje y el optimizador para mejorar el rendimiento del modelo.\n",
    "3. **Entrenamiento Adicional**: Realiza un entrenamiento adicional del modelo con las partes descongeladas.\n",
    "4. **Evaluación de Resultados**: Evalúa los resultados del entrenamiento adicional y compara con los resultados anteriores.\n",
    "5. **Visualización de Resultados**: Muestra imágenes y métricas de rendimiento para analizar las mejoras obtenidas.\n"
   ]
  },
  {
   "cell_type": "markdown",
   "metadata": {},
   "source": [
    "# WebCam"
   ]
  },
  {
   "cell_type": "code",
   "execution_count": null,
   "metadata": {},
   "outputs": [],
   "source": [
    "# webCam/testWebCam-YOLObase.py"
   ]
  },
  {
   "cell_type": "markdown",
   "metadata": {},
   "source": [
    "### Propósito de lo que se ha Hecho\n",
    "\n",
    "El propósito de este script es utilizar un modelo YOLO preentrenado para realizar detecciones en tiempo real utilizando la cámara web del ordenador. El script captura frames de la cámara, realiza predicciones de detección de objetos utilizando el modelo YOLO, y muestra los resultados anotados en una ventana.\n",
    "\n",
    "### Resumen\n",
    "\n",
    "Este script realiza las siguientes tareas:\n",
    "\n",
    "1. **Cargar el Modelo YOLO**: Carga un modelo YOLO preentrenado desde un archivo de pesos (`best.pt`).\n",
    "2. **Abrir la Cámara Web**: Abre la cámara web utilizando OpenCV.\n",
    "3. **Capturar Frames en Tiempo Real**: Captura frames de la cámara en tiempo real.\n",
    "4. **Realizar Predicciones**: Utiliza el modelo YOLO para realizar predicciones de detección de objetos en cada frame capturado.\n",
    "5. **Anotar y Mostrar Frames**: Dibuja las detecciones en los frames y muestra los frames anotados en una ventana.\n",
    "6. **Salir del Bucle**: Permite salir del bucle de captura y predicción presionando la tecla 'q'.\n",
    "7. **Liberar Recursos**: Libera los recursos de la cámara y cierra todas las ventanas de OpenCV al finalizar.\n",
    "\n",
    "Al final del proceso, tendrás una aplicación en tiempo real que muestra las detecciones de objetos realizadas por el modelo YOLO utilizando la cámara web del ordenador."
   ]
  },
  {
   "cell_type": "markdown",
   "metadata": {},
   "source": [
    "# En la carpeta webcam también está el código para procesar videos e imagenes específicas"
   ]
  }
 ],
 "metadata": {
  "kernelspec": {
   "display_name": "tf_wsl",
   "language": "python",
   "name": "python3"
  },
  "language_info": {
   "codemirror_mode": {
    "name": "ipython",
    "version": 3
   },
   "file_extension": ".py",
   "mimetype": "text/x-python",
   "name": "python",
   "nbconvert_exporter": "python",
   "pygments_lexer": "ipython3",
   "version": "3.9.20"
  }
 },
 "nbformat": 4,
 "nbformat_minor": 2
}
